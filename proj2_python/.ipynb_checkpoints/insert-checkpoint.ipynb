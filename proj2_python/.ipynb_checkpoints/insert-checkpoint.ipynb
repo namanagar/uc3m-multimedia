{
 "cells": [
  {
   "cell_type": "code",
   "execution_count": null,
   "metadata": {},
   "outputs": [],
   "source": [
    "# import Python's JSON library for its loads() method\n",
    "import json\n",
    "\n",
    "# import time for its sleep method\n",
    "from time import sleep\n",
    "\n",
    "# use the elasticsearch client's helpers class for _bulk API\n",
    "from elasticsearch import Elasticsearch, helpers\n",
    "client = Elasticsearch(\"localhost:9200\")\n",
    "\n",
    "# define a function that will load a text file\n",
    "def get_data_from_text_file(self):\n",
    "    return [l.strip() for l in open(str(self), encoding=\"utf8\", errors='ignore')]\n",
    "\n",
    "# call the function to get the string data containing docs\n",
    "docs = get_data_from_text_file(\"imdb_dataset.json\")\n",
    "\n",
    "# print the length of the documents in the string\n",
    "print (\"String docs length:\", len(docs))\n",
    "\n",
    "# use Python's enumerate() function to iterate over list of doc strings\n",
    "for num, doc in enumerate(docs):\n",
    "    try:\n",
    "        doc = doc.replace(\"True\", \"true\")\n",
    "        doc = doc.replace(\"False\", \"false\")\n",
    "        dict_doc = json.loads(doc)\n",
    "        dict_doc[\"_id\"] = num\n",
    "        doc_list += [dict_doc]\n",
    "    except json.decoder.JSONDecodeError as err:\n",
    "        print (\"ERROR for num:\", num, \"-- JSONDecodeError:\", err, \"for doc:\", doc)\n",
    "        print (\"Dict docs length:\", len(doc_list))\n",
    "\n",
    "\n",
    "try:\n",
    "    print (\"\\nAttempting to index the list of docs using helpers.bulk()\")\n",
    "    resp = helpers.bulk(client, doc_list, index = \"movies\", doc_type = \"_doc\")\n",
    "    print (\"helpers.bulk() RESPONSE:\", resp)\n",
    "    print (\"helpers.bulk() RESPONSE:\", json.dumps(resp, indent=4))\n",
    "\n",
    "except Exception as err:\n",
    "    print(\"Elasticsearch helpers.bulk() ERROR:\", err)\n",
    "\n",
    "quit()"
   ]
  }
 ],
 "metadata": {
  "kernelspec": {
   "display_name": "Python 3",
   "language": "python",
   "name": "python3"
  },
  "language_info": {
   "codemirror_mode": {
    "name": "ipython",
    "version": 3
   },
   "file_extension": ".py",
   "mimetype": "text/x-python",
   "name": "python",
   "nbconvert_exporter": "python",
   "pygments_lexer": "ipython3",
   "version": "3.7.4"
  }
 },
 "nbformat": 4,
 "nbformat_minor": 2
}
